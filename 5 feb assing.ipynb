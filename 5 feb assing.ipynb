{
 "cells": [
  {
   "cell_type": "markdown",
   "id": "03d696e4-9b82-41d4-95d8-b1fd08941e13",
   "metadata": {},
   "source": [
    "Q1. Explain Class and Object with respect to Object-Oriented Programming. Give a suitable example."
   ]
  },
  {
   "cell_type": "markdown",
   "id": "d64842fc-bd28-4724-9fa8-1b18c7192219",
   "metadata": {},
   "source": [
    "ans- A class is a blueprint or template for producing objects in object-oriented programming (OOP). The properties (data) and behaviours (methods) that the objects of that class will exhibit are defined by this document\n",
    "On the other hand, an object is a specific instance of a class. It was developed as a concrete entity using the class definition. Every object has a unique collection of properties, some of which may differ from those of other objects in the same class. "
   ]
  },
  {
   "cell_type": "code",
   "execution_count": 10,
   "id": "598573dd-4303-4475-bfd2-f6298e2ec92e",
   "metadata": {},
   "outputs": [
    {
     "name": "stdout",
     "output_type": "stream",
     "text": [
      "Rectangle 1 - Length: 5\n",
      "Rectangle 1 - Width: 3\n",
      "Rectangle 2 - Length: 4\n",
      "Rectangle 2 - Width: 7\n",
      "Rectangle 1 - Area: 15\n",
      "Rectangle 2 - Area: 28\n"
     ]
    }
   ],
   "source": [
    "class Rectangle:\n",
    "    def __init__(self, length, width):\n",
    "        self.length = length\n",
    "        self.width = width\n",
    "\n",
    "    def calculate_area(self):\n",
    "        return self.length * self.width\n",
    "\n",
    "rectangle1 = Rectangle(5, 3)\n",
    "rectangle2 = Rectangle(4, 7)\n",
    "\n",
    "print(\"Rectangle 1 - Length:\", rectangle1.length)\n",
    "print(\"Rectangle 1 - Width:\", rectangle1.width)\n",
    "\n",
    "\n",
    "print(\"Rectangle 2 - Length:\", rectangle2.length)\n",
    "print(\"Rectangle 2 - Width:\", rectangle2.width)\n",
    "\n",
    "\n",
    "area1 = rectangle1.calculate_area()\n",
    "print(\"Rectangle 1 - Area:\", area1)\n",
    "\n",
    "\n",
    "area2 = rectangle2.calculate_area()\n",
    "print(\"Rectangle 2 - Area:\", area2)\n",
    "#example"
   ]
  },
  {
   "cell_type": "markdown",
   "id": "269fba5d-b9aa-4741-bad9-7536bf2bda84",
   "metadata": {},
   "source": [
    "2.Name the four pillars of OOPs."
   ]
  },
  {
   "cell_type": "markdown",
   "id": "6be9f1ab-291f-41e9-8cc5-e21815f9cee2",
   "metadata": {},
   "source": [
    "names are Encapsulation\n",
    "Inheritance\n",
    "Polymorphism\n",
    "Abstraction"
   ]
  },
  {
   "cell_type": "markdown",
   "id": "22d5b66f-d8fc-4229-876a-7a1646a3d8e8",
   "metadata": {},
   "source": [
    "3. Explain why the __init__() function is used. Give a suitable example."
   ]
  },
  {
   "cell_type": "markdown",
   "id": "66c41a90-d72a-4eb5-acc6-5dc3942b6c53",
   "metadata": {},
   "source": [
    "ans- When an object is formed from a class in Python, the special __init__() function is immediately invoked. Another name for it is the constructor method. Initialising an object's attributes and carrying out any necessary setup or startup operations are the main goals of the __init__() function.\n"
   ]
  },
  {
   "cell_type": "code",
   "execution_count": 11,
   "id": "1d888f8e-7eb5-4310-b7a5-a0bba4e7ac22",
   "metadata": {},
   "outputs": [
    {
     "name": "stdout",
     "output_type": "stream",
     "text": [
      "A person object has been created.\n",
      "John\n",
      "25\n",
      "My name is John and I am 25 years old.\n"
     ]
    }
   ],
   "source": [
    "# example\n",
    "class Person:\n",
    "    def __init__(self, name, age):\n",
    "        self.name = name\n",
    "        self.age = age\n",
    "        print(\"A person object has been created.\")\n",
    "\n",
    "    def introduce(self):\n",
    "        print(f\"My name is {self.name} and I am {self.age} years old.\")\n",
    "\n",
    "\n",
    "\n",
    "person1 = Person(\"John\", 25)\n",
    "\n",
    "\n",
    "print(person1.name)  \n",
    "print(person1.age)   \n",
    "\n",
    "\n",
    "person1.introduce()  \n"
   ]
  },
  {
   "cell_type": "markdown",
   "id": "e14d99d9-4f37-4084-9fec-199daf21019c",
   "metadata": {},
   "source": [
    "4.Why self is used in OOPs?"
   ]
  },
  {
   "cell_type": "markdown",
   "id": "69ff9139-20e3-46cb-93ab-bc82253550fb",
   "metadata": {},
   "source": [
    "In OOP, \"self\" is a reference to the class instance, enabling access to its methods and properties from within the class declaration.\n"
   ]
  },
  {
   "cell_type": "markdown",
   "id": "2c144380-296e-43a0-9847-beabb8920c22",
   "metadata": {},
   "source": [
    "Q5. What is inheritance? Give an example for each type of inheritance."
   ]
  },
  {
   "cell_type": "markdown",
   "id": "c5b0bffa-10c1-4f35-9f74-2844c44b6fb8",
   "metadata": {},
   "source": [
    "A key idea in object-oriented programming (OOP) is inheritance, which enables a class to take on properties and functions from another class, referred to as the base class or superclass. The term \"derived class\" or \"subclass\" refers to the class that derives from the \"base class.\" Code reuse, modularity, and the development of class hierarchies are all facilitated by inheritance.\n"
   ]
  },
  {
   "cell_type": "code",
   "execution_count": 12,
   "id": "21d1eca2-8956-4c6d-a18d-f8bbcdd30984",
   "metadata": {},
   "outputs": [
    {
     "name": "stdout",
     "output_type": "stream",
     "text": [
      "Brand: Toyota\n",
      "Model: Camry\n",
      "Animal speaks\n",
      "Mammal walks\n",
      "Animal speaks\n",
      "Dog barks\n",
      "Bulldog guards\n"
     ]
    }
   ],
   "source": [
    "#example\n",
    "# Single Inheritance\n",
    "class Vehicle:\n",
    "    def __init__(self, brand):\n",
    "        self.brand = brand\n",
    "\n",
    "    def display_brand(self):\n",
    "        print(f\"Brand: {self.brand}\")\n",
    "\n",
    "\n",
    "class Car(Vehicle):\n",
    "    def __init__(self, brand, model):\n",
    "        super().__init__(brand)\n",
    "        self.model = model\n",
    "\n",
    "    def display_model(self):\n",
    "        print(f\"Model: {self.model}\")\n",
    "\n",
    "\n",
    "car1 = Car(\"Toyota\", \"Camry\")\n",
    "car1.display_brand()  # Output: Brand: Toyota\n",
    "car1.display_model()  # Output: Model: Camry\n",
    "\n",
    "\n",
    "# Multiple Inheritance\n",
    "class Animal:\n",
    "    def speak(self):\n",
    "        print(\"Animal speaks\")\n",
    "\n",
    "\n",
    "class Mammal:\n",
    "    def walk(self):\n",
    "        print(\"Mammal walks\")\n",
    "\n",
    "\n",
    "class Dog(Animal, Mammal):\n",
    "    pass\n",
    "\n",
    "\n",
    "dog1 = Dog()\n",
    "dog1.speak()  # Output: Animal speaks\n",
    "dog1.walk()   # Output: Mammal walks\n",
    "\n",
    "\n",
    "# Multilevel Inheritance\n",
    "class Animal:\n",
    "    def speak(self):\n",
    "        print(\"Animal speaks\")\n",
    "\n",
    "\n",
    "class Dog(Animal):\n",
    "    def bark(self):\n",
    "        print(\"Dog barks\")\n",
    "\n",
    "\n",
    "class Bulldog(Dog):\n",
    "    def guard(self):\n",
    "        print(\"Bulldog guards\")\n",
    "\n",
    "\n",
    "bulldog1 = Bulldog()\n",
    "bulldog1.speak()  # Output: Animal speaks\n",
    "bulldog1.bark()   # Output: Dog barks\n",
    "bulldog1.guard()  # Output: Bulldog guards\n"
   ]
  },
  {
   "cell_type": "code",
   "execution_count": null,
   "id": "66373f0d-38c4-4395-b092-e27e061be6ef",
   "metadata": {},
   "outputs": [],
   "source": []
  }
 ],
 "metadata": {
  "kernelspec": {
   "display_name": "Python 3 (ipykernel)",
   "language": "python",
   "name": "python3"
  },
  "language_info": {
   "codemirror_mode": {
    "name": "ipython",
    "version": 3
   },
   "file_extension": ".py",
   "mimetype": "text/x-python",
   "name": "python",
   "nbconvert_exporter": "python",
   "pygments_lexer": "ipython3",
   "version": "3.10.8"
  }
 },
 "nbformat": 4,
 "nbformat_minor": 5
}
